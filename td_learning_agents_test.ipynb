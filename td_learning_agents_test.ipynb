{
 "cells": [
  {
   "cell_type": "code",
   "execution_count": 11,
   "metadata": {},
   "outputs": [
    {
     "name": "stdout",
     "output_type": "stream",
     "text": [
      "The autoreload extension is already loaded. To reload it, use:\n",
      "  %reload_ext autoreload\n"
     ]
    }
   ],
   "source": [
    "%load_ext autoreload\n",
    "%autoreload 2"
   ]
  },
  {
   "cell_type": "code",
   "execution_count": 12,
   "metadata": {},
   "outputs": [],
   "source": [
    "import pandas as pd\n",
    "\n",
    "from tqdm import tqdm\n",
    "\n",
    "import seaborn as sns\n",
    "import matplotlib.pyplot as plt\n",
    "\n",
    "from modules.agents import TDAgent\n",
    "from modules.environments import GridWorld"
   ]
  },
  {
   "cell_type": "markdown",
   "metadata": {},
   "source": [
    "## Agents Comparison"
   ]
  },
  {
   "cell_type": "code",
   "execution_count": 13,
   "metadata": {
    "scrolled": false
   },
   "outputs": [
    {
     "name": "stderr",
     "output_type": "stream",
     "text": [
      "\r",
      "  0%|                                                                                            | 0/3 [00:00<?, ?it/s]"
     ]
    },
    {
     "name": "stdout",
     "output_type": "stream",
     "text": [
      "Testing grid\n"
     ]
    },
    {
     "name": "stderr",
     "output_type": "stream",
     "text": [
      "100%|████████████████████████████████████████████████████████████████████████████████████| 3/3 [02:05<00:00, 41.85s/it]\n",
      "  0%|                                                                                            | 0/3 [00:00<?, ?it/s]"
     ]
    },
    {
     "name": "stdout",
     "output_type": "stream",
     "text": [
      "Testing wall\n"
     ]
    },
    {
     "name": "stderr",
     "output_type": "stream",
     "text": [
      "100%|████████████████████████████████████████████████████████████████████████████████████| 3/3 [02:00<00:00, 40.30s/it]\n",
      "  0%|                                                                                            | 0/3 [00:00<?, ?it/s]"
     ]
    },
    {
     "name": "stdout",
     "output_type": "stream",
     "text": [
      "Testing double_wall\n"
     ]
    },
    {
     "name": "stderr",
     "output_type": "stream",
     "text": [
      "100%|███████████████████████████████████████████████████████████████████████████████████| 3/3 [06:07<00:00, 122.57s/it]\n",
      "  0%|                                                                                            | 0/3 [00:00<?, ?it/s]"
     ]
    },
    {
     "name": "stdout",
     "output_type": "stream",
     "text": [
      "Testing maze\n"
     ]
    },
    {
     "name": "stderr",
     "output_type": "stream",
     "text": [
      "100%|███████████████████████████████████████████████████████████████████████████████████| 3/3 [05:07<00:00, 102.36s/it]\n",
      "  0%|                                                                                            | 0/3 [00:00<?, ?it/s]"
     ]
    },
    {
     "name": "stdout",
     "output_type": "stream",
     "text": [
      "Testing tbone\n"
     ]
    },
    {
     "name": "stderr",
     "output_type": "stream",
     "text": [
      " 67%|███████████████████████████████████████████████████████▎                           | 2/3 [25:03<12:31, 751.95s/it]\n",
      "ERROR:root:Internal Python error in the inspect module.\n",
      "Below is the traceback from this internal error.\n",
      "\n",
      "\n",
      "KeyboardInterrupt\n",
      "\n"
     ]
    },
    {
     "data": {
      "image/png": "[encoded data removed]",
      "text/plain": [
       "<Figure size 864x216 with 4 Axes>"
      ]
     },
     "metadata": {
      "needs_background": "light"
     },
     "output_type": "display_data"
    }
   ],
   "source": [
    "SALIENCE_FACTOR = 1.5\n",
    "DOPAMINE_ALTERATION = 0.5\n",
    "\n",
    "SIM_SUMMARIES = []\n",
    "MAX_ITER = 1000\n",
    "MAX_STEPS = 1000\n",
    "\n",
    "for world in ['grid', 'wall', 'double_wall', 'maze', 'tbone', 'treasure_island']:\n",
    "    \n",
    "    print(f'Testing {world}')\n",
    "    \n",
    "    normal_agent = TDAgent(\n",
    "        world=GridWorld(file_path=f'grid_worlds//the_{world}.txt'),\n",
    "        agent_tag=f'normal_the_{world}'\n",
    "    )\n",
    "    addicted_agent = TDAgent(\n",
    "        world=GridWorld(file_path=f'grid_worlds//the_{world}.txt'),\n",
    "        agent_tag=f'addicted_the_{world}',\n",
    "        salience_factor=SALIENCE_FACTOR\n",
    "    )\n",
    "    depleted_agent = TDAgent(\n",
    "        world=GridWorld(file_path=f'grid_worlds//the_{world}.txt'),\n",
    "        agent_tag=f'depleted_the_{world}',\n",
    "        dopamine_alteration=DOPAMINE_ALTERATION\n",
    "    )\n",
    "    \n",
    "    for agent in tqdm([normal_agent, addicted_agent, depleted_agent]):\n",
    "        \n",
    "        sim_summary = agent.simulate(\n",
    "            max_iter=MAX_ITER, \n",
    "            verbose=200,\n",
    "            max_steps=MAX_STEPS\n",
    "        )\n",
    "        for metric in ['steps', 'reward', 'error']:\n",
    "            \n",
    "            sim_summary[metric] = sim_summary[metric].astype('float')\n",
    "            sim_summary[f'smooth_{metric}'] = sim_summary[metric].rolling(\n",
    "                window=max(30, MAX_ITER // 10), \n",
    "                min_periods=1\n",
    "            ).mean()\n",
    "        \n",
    "        sim_summary['world'] = world\n",
    "        sim_summary['agent'] = agent.agent_tag.split('_')[0]\n",
    "        SIM_SUMMARIES.append(sim_summary)\n",
    "        \n",
    "SIM_SUMMARIES = pd.concat(SIM_SUMMARIES, ignore_index=True)"
   ]
  },
  {
   "cell_type": "code",
   "execution_count": 21,
   "metadata": {
    "scrolled": false
   },
   "outputs": [
    {
     "name": "stderr",
     "output_type": "stream",
     "text": [
      "c:\\users\\penthotal\\appdata\\local\\programs\\python\\python36\\lib\\site-packages\\ipykernel_launcher.py:9: UserWarning: Data has no positive values, and therefore cannot be log-scaled.\n",
      "  if __name__ == '__main__':\n"
     ]
    },
    {
     "data": {
      "image/png": "[encoded data removed]",
      "text/plain": [
       "<Figure size 1080x360 with 1 Axes>"
      ]
     },
     "metadata": {
      "needs_background": "light"
     },
     "output_type": "display_data"
    }
   ],
   "source": [
    "plt.figure(figsize=(15, 5))\n",
    "\n",
    "sns.lineplot(\n",
    "    x='iteration',\n",
    "    y='smooth_reward',\n",
    "    hue='agent',\n",
    "    data=SIM_SUMMARIES[SIM_SUMMARIES['world'] == 'maze']\n",
    ")"
   ]
  },
  {
   "cell_type": "code",
   "execution_count": 14,
   "metadata": {},
   "outputs": [],
   "source": [
    "SIM_SUMMARIES = pd.concat(SIM_SUMMARIES, ignore_index=True)"
   ]
  },
  {
   "cell_type": "code",
   "execution_count": 15,
   "metadata": {},
   "outputs": [
    {
     "data": {
      "text/html": [
       "<div>\n",
       "<style scoped>\n",
       "    .dataframe tbody tr th:only-of-type {\n",
       "        vertical-align: middle;\n",
       "    }\n",
       "\n",
       "    .dataframe tbody tr th {\n",
       "        vertical-align: top;\n",
       "    }\n",
       "\n",
       "    .dataframe thead th {\n",
       "        text-align: right;\n",
       "    }\n",
       "</style>\n",
       "<table border=\"1\" class=\"dataframe\">\n",
       "  <thead>\n",
       "    <tr style=\"text-align: right;\">\n",
       "      <th></th>\n",
       "      <th>iteration</th>\n",
       "      <th>steps</th>\n",
       "      <th>reward</th>\n",
       "      <th>error</th>\n",
       "      <th>smooth_steps</th>\n",
       "      <th>smooth_reward</th>\n",
       "      <th>smooth_error</th>\n",
       "      <th>world</th>\n",
       "      <th>agent</th>\n",
       "    </tr>\n",
       "  </thead>\n",
       "  <tbody>\n",
       "    <tr>\n",
       "      <th>0</th>\n",
       "      <td>0.0</td>\n",
       "      <td>143.0</td>\n",
       "      <td>1.0</td>\n",
       "      <td>-23.829571</td>\n",
       "      <td>143.000000</td>\n",
       "      <td>1.000000</td>\n",
       "      <td>-23.829571</td>\n",
       "      <td>grid</td>\n",
       "      <td>normal</td>\n",
       "    </tr>\n",
       "    <tr>\n",
       "      <th>1</th>\n",
       "      <td>1.0</td>\n",
       "      <td>229.0</td>\n",
       "      <td>0.0</td>\n",
       "      <td>-36.632027</td>\n",
       "      <td>186.000000</td>\n",
       "      <td>0.500000</td>\n",
       "      <td>-30.230799</td>\n",
       "      <td>grid</td>\n",
       "      <td>normal</td>\n",
       "    </tr>\n",
       "    <tr>\n",
       "      <th>2</th>\n",
       "      <td>2.0</td>\n",
       "      <td>166.0</td>\n",
       "      <td>1.0</td>\n",
       "      <td>-22.596488</td>\n",
       "      <td>179.333333</td>\n",
       "      <td>0.666667</td>\n",
       "      <td>-27.686029</td>\n",
       "      <td>grid</td>\n",
       "      <td>normal</td>\n",
       "    </tr>\n",
       "    <tr>\n",
       "      <th>3</th>\n",
       "      <td>3.0</td>\n",
       "      <td>8.0</td>\n",
       "      <td>0.0</td>\n",
       "      <td>-0.260090</td>\n",
       "      <td>136.500000</td>\n",
       "      <td>0.500000</td>\n",
       "      <td>-20.829544</td>\n",
       "      <td>grid</td>\n",
       "      <td>normal</td>\n",
       "    </tr>\n",
       "    <tr>\n",
       "      <th>4</th>\n",
       "      <td>4.0</td>\n",
       "      <td>18.0</td>\n",
       "      <td>1.0</td>\n",
       "      <td>-1.835834</td>\n",
       "      <td>112.800000</td>\n",
       "      <td>0.600000</td>\n",
       "      <td>-17.030802</td>\n",
       "      <td>grid</td>\n",
       "      <td>normal</td>\n",
       "    </tr>\n",
       "    <tr>\n",
       "      <th>...</th>\n",
       "      <td>...</td>\n",
       "      <td>...</td>\n",
       "      <td>...</td>\n",
       "      <td>...</td>\n",
       "      <td>...</td>\n",
       "      <td>...</td>\n",
       "      <td>...</td>\n",
       "      <td>...</td>\n",
       "      <td>...</td>\n",
       "    </tr>\n",
       "    <tr>\n",
       "      <th>14009</th>\n",
       "      <td>996.0</td>\n",
       "      <td>9.0</td>\n",
       "      <td>-5.0</td>\n",
       "      <td>192.689616</td>\n",
       "      <td>11.700000</td>\n",
       "      <td>-7.530000</td>\n",
       "      <td>30.243202</td>\n",
       "      <td>tbone</td>\n",
       "      <td>addicted</td>\n",
       "    </tr>\n",
       "    <tr>\n",
       "      <th>14010</th>\n",
       "      <td>997.0</td>\n",
       "      <td>9.0</td>\n",
       "      <td>-5.0</td>\n",
       "      <td>193.317511</td>\n",
       "      <td>11.700000</td>\n",
       "      <td>-7.520000</td>\n",
       "      <td>30.413998</td>\n",
       "      <td>tbone</td>\n",
       "      <td>addicted</td>\n",
       "    </tr>\n",
       "    <tr>\n",
       "      <th>14011</th>\n",
       "      <td>998.0</td>\n",
       "      <td>14.0</td>\n",
       "      <td>-8.0</td>\n",
       "      <td>25.754136</td>\n",
       "      <td>11.750000</td>\n",
       "      <td>-7.540000</td>\n",
       "      <td>28.933271</td>\n",
       "      <td>tbone</td>\n",
       "      <td>addicted</td>\n",
       "    </tr>\n",
       "    <tr>\n",
       "      <th>14012</th>\n",
       "      <td>999.0</td>\n",
       "      <td>13.0</td>\n",
       "      <td>-8.0</td>\n",
       "      <td>-11.632454</td>\n",
       "      <td>11.770000</td>\n",
       "      <td>-7.540000</td>\n",
       "      <td>28.605836</td>\n",
       "      <td>tbone</td>\n",
       "      <td>addicted</td>\n",
       "    </tr>\n",
       "    <tr>\n",
       "      <th>14013</th>\n",
       "      <td>1000.0</td>\n",
       "      <td>11.0</td>\n",
       "      <td>-8.0</td>\n",
       "      <td>37.468478</td>\n",
       "      <td>11.770000</td>\n",
       "      <td>-7.550000</td>\n",
       "      <td>27.935160</td>\n",
       "      <td>tbone</td>\n",
       "      <td>addicted</td>\n",
       "    </tr>\n",
       "  </tbody>\n",
       "</table>\n",
       "<p>14014 rows × 9 columns</p>\n",
       "</div>"
      ],
      "text/plain": [
       "       iteration  steps  reward       error  smooth_steps  smooth_reward  \\\n",
       "0            0.0  143.0     1.0  -23.829571    143.000000       1.000000   \n",
       "1            1.0  229.0     0.0  -36.632027    186.000000       0.500000   \n",
       "2            2.0  166.0     1.0  -22.596488    179.333333       0.666667   \n",
       "3            3.0    8.0     0.0   -0.260090    136.500000       0.500000   \n",
       "4            4.0   18.0     1.0   -1.835834    112.800000       0.600000   \n",
       "...          ...    ...     ...         ...           ...            ...   \n",
       "14009      996.0    9.0    -5.0  192.689616     11.700000      -7.530000   \n",
       "14010      997.0    9.0    -5.0  193.317511     11.700000      -7.520000   \n",
       "14011      998.0   14.0    -8.0   25.754136     11.750000      -7.540000   \n",
       "14012      999.0   13.0    -8.0  -11.632454     11.770000      -7.540000   \n",
       "14013     1000.0   11.0    -8.0   37.468478     11.770000      -7.550000   \n",
       "\n",
       "       smooth_error  world     agent  \n",
       "0        -23.829571   grid    normal  \n",
       "1        -30.230799   grid    normal  \n",
       "2        -27.686029   grid    normal  \n",
       "3        -20.829544   grid    normal  \n",
       "4        -17.030802   grid    normal  \n",
       "...             ...    ...       ...  \n",
       "14009     30.243202  tbone  addicted  \n",
       "14010     30.413998  tbone  addicted  \n",
       "14011     28.933271  tbone  addicted  \n",
       "14012     28.605836  tbone  addicted  \n",
       "14013     27.935160  tbone  addicted  \n",
       "\n",
       "[14014 rows x 9 columns]"
      ]
     },
     "execution_count": 15,
     "metadata": {},
     "output_type": "execute_result"
    }
   ],
   "source": [
    "SIM_SUMMARIES"
   ]
  },
  {
   "cell_type": "code",
   "execution_count": null,
   "metadata": {},
   "outputs": [],
   "source": []
  }
 ],
 "metadata": {
  "kernelspec": {
   "display_name": "Python 3",
   "language": "python",
   "name": "python3"
  },
  "language_info": {
   "codemirror_mode": {
    "name": "ipython",
    "version": 3
   },
   "file_extension": ".py",
   "mimetype": "text/x-python",
   "name": "python",
   "nbconvert_exporter": "python",
   "pygments_lexer": "ipython3",
   "version": "3.6.2"
  }
 },
 "nbformat": 4,
 "nbformat_minor": 4
}
